{
 "cells": [
  {
   "cell_type": "code",
   "execution_count": 12,
   "metadata": {},
   "outputs": [],
   "source": [
    "import ast\n",
    "import itertools\n",
    "from tqdm import tqdm\n",
    "import numpy as np\n",
    "import pandas as pd\n",
    "import seaborn as sns\n",
    "import rdkit.Chem.AllChem as Chem\n",
    "from rdkit.Chem import AllChem\n",
    "import matplotlib.pyplot as plt"
   ]
  },
  {
   "cell_type": "code",
   "execution_count": 2,
   "metadata": {},
   "outputs": [],
   "source": [
    "# cleanup\n",
    "df_info = pd.read_csv('data/hMOF_CO2_info.csv')\n",
    "df_info = df_info.dropna() # drop entries containing 'NaN'\n",
    "df_info = df_info[df_info.CO2_wc_001>0] # only keep entries with positive CO2 working capacity\n",
    "df_info = df_info[~df_info.MOFid.str.contains('ERROR')] # drop entries with error\n",
    "df_info = df_info[~df_info.MOFid.str.contains('NA')] # drop entries with NA"
   ]
  },
  {
   "cell_type": "code",
   "execution_count": 6,
   "metadata": {},
   "outputs": [
    {
     "name": "stderr",
     "output_type": "stream",
     "text": [
      "107449it [00:02, 39452.56it/s]\n"
     ]
    }
   ],
   "source": [
    "# get node and linker information\n",
    "metal_eles = ['Zn', 'Cu', 'Mn', 'Zr', 'Co', 'Ni', 'Fe', 'Cd', 'Pb', 'Al', 'Mg', 'V',\n",
    "       'Tb', 'Eu', 'Sm', 'Tm', 'Gd', 'Nd', 'Dy', 'La', 'Ba', 'Ga', 'In',\n",
    "       'Ti', 'Be', 'Ce', 'Li', 'Pd', 'Na', 'Er', 'Ho', 'Yb', 'Ag', 'Pr',\n",
    "       'Cs', 'Mo', 'Lu', 'Ca', 'Pt', 'Ge', 'Sc', 'Hf', 'Cr', 'Bi', 'Rh',\n",
    "       'Sn', 'Ir', 'Nb', 'Ru', 'Th', 'As', 'Sr']\n",
    "\n",
    "# get a list of metal nodes & create a new column named \"metal_nodes\"\n",
    "metal_nodes = []\n",
    "organic_linkers = []\n",
    "for i,mofid in tqdm(enumerate(df_info.MOFid)):\n",
    "    sbus = mofid.split()[0].split('.')\n",
    "    metal_nodes.append([c for c in sbus if any(e in c for e in metal_eles)][0])\n",
    "    organic_linkers.append([c for c in sbus if any(e in c for e in metal_eles)==False])\n",
    "\n",
    "df_info['metal_node'] = metal_nodes\n",
    "df_info['organic_linker'] = organic_linkers"
   ]
  },
  {
   "cell_type": "code",
   "execution_count": 7,
   "metadata": {},
   "outputs": [
    {
     "name": "stdout",
     "output_type": "stream",
     "text": [
      "most frequently occuring node:\n",
      "                        node   freq\n",
      "0                   [Zn][Zn]  28529\n",
      "1                   [Cu][Cu]  29714\n",
      "2    [Zn][O]([Zn])([Zn])[Zn]  43874\n",
      "3                        [V]   5197\n",
      "4                 [O][V]O[V]     46\n",
      "5                  [V]1[V]O1     50\n",
      "6                    [V]O[V]     32\n",
      "7            [V]O[V]O[V]O[V]      1\n",
      "8                       [Zn]      2\n",
      "9          [V]1O[V][V]O[V]O1      1\n",
      "10  F[Zn][O]([Zn])([Zn])[Zn]      1\n",
      "11                 [Cu][CuH]      1\n",
      "12         [Zr][O]([Zr])[Zr]      1\n"
     ]
    }
   ],
   "source": [
    "unique_nodes = [n for n in list(df_info['metal_node'].unique()) if len(n)<=30] # node smiles should be shorter then 30 strings\n",
    "df_info = df_info[df_info['metal_node'].isin(unique_nodes)] # filter df_info based on unique_nodes\n",
    "freq = [df_info['metal_node'].value_counts()[value] for value in list(df_info.metal_node.unique())] # get frequency of unique nodes\n",
    "df_freq = pd.DataFrame({'node':list(df_info.metal_node.unique()),'freq':freq})\n",
    "print('most frequently occuring node:')\n",
    "print(df_freq)\n",
    "unique_node_select = ['[Zn][Zn]', '[Cu][Cu]', '[Zn][O]([Zn])([Zn])[Zn]', '[V]'] # manually select the most occuring nodes\n",
    "df_info_select = df_info[df_info['metal_node'].isin(unique_node_select)] # select df_info with node only in list(unique_node_select)\n",
    "# output df for each node to a separate csv files\n",
    "for n in unique_node_select:\n",
    "    df_info_select_node = df_info[df_info.metal_node == n]\n",
    "    df_info_select_node.to_csv(f'data/data_by_node/{n}.csv',index=False)"
   ]
  },
  {
   "cell_type": "code",
   "execution_count": 13,
   "metadata": {},
   "outputs": [
    {
     "name": "stderr",
     "output_type": "stream",
     "text": [
      "/var/folders/k3/l23j0sk144l_frxntwwtfpg40000gn/T/ipykernel_40325/3834039767.py:13: SettingWithCopyWarning: \n",
      "A value is trying to be set on a copy of a slice from a DataFrame.\n",
      "Try using .loc[row_indexer,col_indexer] = value instead\n",
      "\n",
      "See the caveats in the documentation: https://pandas.pydata.org/pandas-docs/stable/user_guide/indexing.html#returning-a-view-versus-a-copy\n",
      "  df_high_wc['len_linkers'] = len_linkers\n"
     ]
    },
    {
     "name": "stdout",
     "output_type": "stream",
     "text": [
      "2502\n"
     ]
    },
    {
     "name": "stderr",
     "output_type": "stream",
     "text": [
      "  0%|          | 0/2502 [00:00<?, ?it/s][22:02:34] Explicit valence for atom # 3 N, 4, is greater than permitted\n",
      "  1%|          | 27/2502 [00:00<01:00, 40.88it/s] [22:02:35] Explicit valence for atom # 1 N, 4, is greater than permitted\n",
      "[22:02:35] Explicit valence for atom # 15 N, 4, is greater than permitted\n",
      "  5%|▍         | 116/2502 [00:01<00:29, 81.36it/s][22:02:36] Explicit valence for atom # 1 N, 4, is greater than permitted\n",
      "  7%|▋         | 164/2502 [00:02<00:22, 104.65it/s][22:02:36] Explicit valence for atom # 1 N, 4, is greater than permitted\n",
      "  7%|▋         | 175/2502 [00:02<00:23, 97.74it/s] [22:02:36] Explicit valence for atom # 10 N, 4, is greater than permitted\n",
      " 12%|█▏        | 290/2502 [00:03<00:18, 118.84it/s][22:02:37] Explicit valence for atom # 4 N, 4, is greater than permitted\n",
      " 13%|█▎        | 328/2502 [00:03<00:19, 112.96it/s][22:02:38] Explicit valence for atom # 2 N, 4, is greater than permitted\n",
      "[22:02:38] Explicit valence for atom # 3 N, 4, is greater than permitted\n",
      " 22%|██▏       | 548/2502 [00:06<00:16, 117.49it/s][22:02:40] Explicit valence for atom # 2 N, 4, is greater than permitted\n",
      " 25%|██▍       | 625/2502 [00:06<00:15, 124.35it/s][22:02:41] Explicit valence for atom # 11 N, 4, is greater than permitted\n",
      " 30%|███       | 759/2502 [00:08<00:16, 103.71it/s][22:02:42] Explicit valence for atom # 1 N, 4, is greater than permitted\n",
      "[22:02:42] Explicit valence for atom # 1 N, 4, is greater than permitted\n",
      " 37%|███▋      | 938/2502 [00:10<00:34, 45.91it/s] [22:02:45] Explicit valence for atom # 13 N, 4, is greater than permitted\n",
      " 46%|████▋     | 1161/2502 [00:13<00:11, 114.29it/s][22:02:47] Explicit valence for atom # 5 N, 4, is greater than permitted\n",
      " 53%|█████▎    | 1329/2502 [00:14<00:09, 128.28it/s][22:02:49] Explicit valence for atom # 1 N, 4, is greater than permitted\n",
      "[22:02:49] Explicit valence for atom # 3 N, 4, is greater than permitted\n",
      " 54%|█████▎    | 1343/2502 [00:14<00:08, 130.93it/s][22:02:49] Explicit valence for atom # 15 N, 4, is greater than permitted\n",
      " 56%|█████▌    | 1401/2502 [00:15<00:09, 115.42it/s][22:02:49] Explicit valence for atom # 11 N, 4, is greater than permitted\n",
      " 60%|█████▉    | 1491/2502 [00:16<00:11, 86.17it/s] [22:02:50] Explicit valence for atom # 3 N, 4, is greater than permitted\n",
      " 62%|██████▏   | 1559/2502 [00:17<00:14, 62.96it/s] [22:02:51] Explicit valence for atom # 11 N, 4, is greater than permitted\n",
      " 63%|██████▎   | 1577/2502 [00:17<00:12, 71.96it/s][22:02:52] Explicit valence for atom # 19 N, 4, is greater than permitted\n",
      " 66%|██████▌   | 1644/2502 [00:17<00:08, 100.60it/s][22:02:52] Explicit valence for atom # 4 N, 4, is greater than permitted\n",
      " 68%|██████▊   | 1700/2502 [00:18<00:14, 55.89it/s] [22:02:53] Explicit valence for atom # 8 C, 5, is greater than permitted\n",
      " 69%|██████▉   | 1737/2502 [00:19<00:08, 85.41it/s][22:02:53] Explicit valence for atom # 16 N, 4, is greater than permitted\n",
      " 71%|███████   | 1768/2502 [00:19<00:08, 91.01it/s] [22:02:54] Explicit valence for atom # 2 N, 4, is greater than permitted\n",
      " 75%|███████▍  | 1867/2502 [00:20<00:06, 96.63it/s] [22:02:55] Explicit valence for atom # 7 N, 4, is greater than permitted\n",
      " 76%|███████▌  | 1896/2502 [00:20<00:05, 116.83it/s][22:02:55] Explicit valence for atom # 22 N, 4, is greater than permitted\n",
      "[22:02:55] Explicit valence for atom # 5 N, 4, is greater than permitted\n",
      " 81%|████████▏ | 2035/2502 [00:21<00:06, 74.84it/s] [22:02:56] Explicit valence for atom # 3 N, 4, is greater than permitted\n",
      " 87%|████████▋ | 2165/2502 [00:25<00:08, 40.14it/s] [22:03:00] Explicit valence for atom # 16 N, 4, is greater than permitted\n",
      " 87%|████████▋ | 2174/2502 [00:25<00:08, 40.59it/s][22:03:00] Explicit valence for atom # 19 N, 4, is greater than permitted\n",
      "[22:03:00] Explicit valence for atom # 16 N, 4, is greater than permitted\n",
      " 88%|████████▊ | 2205/2502 [00:25<00:04, 67.01it/s][22:03:00] Explicit valence for atom # 1 N, 4, is greater than permitted\n",
      " 90%|████████▉ | 2243/2502 [00:26<00:02, 93.43it/s][22:03:00] Explicit valence for atom # 3 N, 4, is greater than permitted\n",
      " 90%|█████████ | 2255/2502 [00:26<00:02, 93.13it/s][22:03:01] Explicit valence for atom # 18 N, 4, is greater than permitted\n",
      " 98%|█████████▊| 2442/2502 [00:28<00:00, 61.18it/s] [22:03:03] Explicit valence for atom # 2 N, 4, is greater than permitted\n",
      "100%|██████████| 2502/2502 [00:28<00:00, 86.31it/s] \n",
      "/var/folders/k3/l23j0sk144l_frxntwwtfpg40000gn/T/ipykernel_40325/3834039767.py:13: SettingWithCopyWarning: \n",
      "A value is trying to be set on a copy of a slice from a DataFrame.\n",
      "Try using .loc[row_indexer,col_indexer] = value instead\n",
      "\n",
      "See the caveats in the documentation: https://pandas.pydata.org/pandas-docs/stable/user_guide/indexing.html#returning-a-view-versus-a-copy\n",
      "  df_high_wc['len_linkers'] = len_linkers\n"
     ]
    },
    {
     "name": "stdout",
     "output_type": "stream",
     "text": [
      "3048\n"
     ]
    },
    {
     "name": "stderr",
     "output_type": "stream",
     "text": [
      "  0%|          | 0/3048 [00:00<?, ?it/s][22:03:03] Explicit valence for atom # 3 N, 4, is greater than permitted\n",
      "  4%|▍         | 122/3048 [00:01<00:29, 99.49it/s] [22:03:04] Explicit valence for atom # 5 N, 4, is greater than permitted\n",
      "  5%|▌         | 167/3048 [00:01<00:26, 108.51it/s][22:03:05] Explicit valence for atom # 11 N, 4, is greater than permitted\n",
      " 11%|█         | 325/3048 [00:03<00:28, 95.79it/s] [22:03:06] Explicit valence for atom # 14 N, 4, is greater than permitted\n",
      " 16%|█▌        | 490/3048 [00:04<00:24, 106.13it/s][22:03:08] Explicit valence for atom # 13 N, 4, is greater than permitted\n",
      " 19%|█▉        | 579/3048 [00:05<00:24, 100.75it/s][22:03:09] Explicit valence for atom # 5 N, 4, is greater than permitted\n",
      " 24%|██▎       | 717/3048 [00:07<00:25, 90.12it/s] [22:03:11] Explicit valence for atom # 3 N, 4, is greater than permitted\n",
      " 25%|██▍       | 755/3048 [00:08<00:26, 85.40it/s][22:03:12] Explicit valence for atom # 17 N, 4, is greater than permitted\n",
      " 29%|██▊       | 873/3048 [00:09<00:21, 102.38it/s][22:03:13] Explicit valence for atom # 17 N, 4, is greater than permitted\n",
      " 30%|██▉       | 913/3048 [00:10<00:22, 93.62it/s] [22:03:14] Explicit valence for atom # 3 N, 4, is greater than permitted\n",
      " 34%|███▍      | 1047/3048 [00:11<00:23, 84.52it/s][22:03:15] Explicit valence for atom # 14 N, 4, is greater than permitted\n",
      " 43%|████▎     | 1314/3048 [00:15<00:24, 71.35it/s] [22:03:18] Explicit valence for atom # 11 N, 4, is greater than permitted\n",
      " 44%|████▍     | 1341/3048 [00:15<00:23, 72.16it/s][22:03:19] Explicit valence for atom # 4 N, 4, is greater than permitted\n",
      " 44%|████▍     | 1351/3048 [00:15<00:22, 76.70it/s][22:03:19] Explicit valence for atom # 6 N, 4, is greater than permitted\n",
      " 46%|████▌     | 1403/3048 [00:16<00:16, 98.02it/s][22:03:19] Explicit valence for atom # 2 N, 4, is greater than permitted\n",
      " 49%|████▉     | 1502/3048 [00:17<00:14, 106.77it/s][22:03:20] Explicit valence for atom # 9 N, 4, is greater than permitted\n",
      " 56%|█████▋    | 1719/3048 [00:20<00:14, 89.25it/s] [22:03:23] Explicit valence for atom # 1 N, 4, is greater than permitted\n",
      " 59%|█████▊    | 1789/3048 [00:20<00:17, 70.47it/s] [22:03:24] Explicit valence for atom # 3 N, 4, is greater than permitted\n",
      " 62%|██████▏   | 1892/3048 [00:21<00:11, 101.58it/s][22:03:25] Explicit valence for atom # 3 N, 4, is greater than permitted\n",
      " 65%|██████▌   | 1990/3048 [00:23<00:11, 93.94it/s] [22:03:26] Explicit valence for atom # 18 N, 4, is greater than permitted\n",
      " 66%|██████▌   | 2009/3048 [00:23<00:08, 116.25it/s][22:03:26] Explicit valence for atom # 13 N, 4, is greater than permitted\n",
      " 71%|███████   | 2162/3048 [00:24<00:09, 89.37it/s] [22:03:28] Explicit valence for atom # 1 N, 4, is greater than permitted\n",
      " 73%|███████▎  | 2212/3048 [00:25<00:07, 108.72it/s][22:03:29] Explicit valence for atom # 2 N, 4, is greater than permitted\n",
      " 75%|███████▍  | 2285/3048 [00:26<00:09, 80.53it/s] [22:03:30] Explicit valence for atom # 2 N, 4, is greater than permitted\n",
      " 79%|███████▊  | 2399/3048 [00:27<00:08, 72.16it/s][22:03:31] Explicit valence for atom # 2 N, 4, is greater than permitted\n",
      " 80%|███████▉  | 2432/3048 [00:28<00:08, 76.66it/s][22:03:32] Explicit valence for atom # 18 N, 4, is greater than permitted\n",
      " 80%|████████  | 2451/3048 [00:28<00:05, 100.50it/s][22:03:32] Explicit valence for atom # 14 N, 4, is greater than permitted\n",
      "[22:03:32] Explicit valence for atom # 5 N, 4, is greater than permitted\n",
      " 83%|████████▎ | 2539/3048 [00:29<00:04, 111.94it/s][22:03:32] Explicit valence for atom # 9 N, 4, is greater than permitted\n",
      " 85%|████████▌ | 2595/3048 [00:29<00:04, 90.99it/s] [22:03:33] Explicit valence for atom # 4 N, 4, is greater than permitted\n",
      " 91%|█████████▏| 2782/3048 [00:31<00:02, 90.05it/s] [22:03:35] Explicit valence for atom # 4 N, 4, is greater than permitted\n",
      " 96%|█████████▌| 2911/3048 [00:33<00:01, 84.13it/s] [22:03:37] Explicit valence for atom # 20 N, 4, is greater than permitted\n",
      "100%|██████████| 3048/3048 [00:34<00:00, 87.68it/s] \n",
      "/var/folders/k3/l23j0sk144l_frxntwwtfpg40000gn/T/ipykernel_40325/3834039767.py:13: SettingWithCopyWarning: \n",
      "A value is trying to be set on a copy of a slice from a DataFrame.\n",
      "Try using .loc[row_indexer,col_indexer] = value instead\n",
      "\n",
      "See the caveats in the documentation: https://pandas.pydata.org/pandas-docs/stable/user_guide/indexing.html#returning-a-view-versus-a-copy\n",
      "  df_high_wc['len_linkers'] = len_linkers\n"
     ]
    },
    {
     "name": "stdout",
     "output_type": "stream",
     "text": [
      "4164\n"
     ]
    },
    {
     "name": "stderr",
     "output_type": "stream",
     "text": [
      "  3%|▎         | 118/4164 [00:00<00:30, 133.97it/s][22:03:39] Explicit valence for atom # 8 N, 4, is greater than permitted\n",
      "  9%|▊         | 355/4164 [00:02<00:33, 112.69it/s][22:03:41] Explicit valence for atom # 9 N, 4, is greater than permitted\n",
      "  9%|▉         | 388/4164 [00:02<00:28, 133.66it/s][22:03:41] Explicit valence for atom # 10 N, 4, is greater than permitted\n",
      " 34%|███▎      | 1400/4164 [00:09<00:14, 188.49it/s][22:03:48] Explicit valence for atom # 11 N, 4, is greater than permitted\n",
      " 37%|███▋      | 1555/4164 [00:10<00:14, 178.14it/s][22:03:49] Explicit valence for atom # 14 N, 4, is greater than permitted\n",
      "[22:03:49] Explicit valence for atom # 14 N, 4, is greater than permitted\n",
      " 38%|███▊      | 1580/4164 [00:11<00:13, 193.26it/s][22:03:49] Explicit valence for atom # 6 C, 5, is greater than permitted\n",
      " 63%|██████▎   | 2617/4164 [00:18<00:10, 151.93it/s][22:03:57] Explicit valence for atom # 11 N, 4, is greater than permitted\n",
      " 73%|███████▎  | 3046/4164 [00:45<00:13, 84.09it/s] [22:04:24] Explicit valence for atom # 1 N, 4, is greater than permitted\n",
      " 99%|█████████▉| 4120/4164 [01:02<00:00, 208.52it/s][22:04:40] Explicit valence for atom # 8 N, 4, is greater than permitted\n",
      "100%|██████████| 4164/4164 [01:02<00:00, 66.78it/s] \n",
      "/var/folders/k3/l23j0sk144l_frxntwwtfpg40000gn/T/ipykernel_40325/3834039767.py:13: SettingWithCopyWarning: \n",
      "A value is trying to be set on a copy of a slice from a DataFrame.\n",
      "Try using .loc[row_indexer,col_indexer] = value instead\n",
      "\n",
      "See the caveats in the documentation: https://pandas.pydata.org/pandas-docs/stable/user_guide/indexing.html#returning-a-view-versus-a-copy\n",
      "  df_high_wc['len_linkers'] = len_linkers\n"
     ]
    },
    {
     "name": "stdout",
     "output_type": "stream",
     "text": [
      "1911\n"
     ]
    },
    {
     "name": "stderr",
     "output_type": "stream",
     "text": [
      "  1%|          | 10/1911 [00:00<00:29, 65.00it/s][22:04:41] Explicit valence for atom # 19 N, 4, is greater than permitted\n",
      "  2%|▏         | 46/1911 [00:00<00:14, 127.37it/s][22:04:41] Explicit valence for atom # 20 N, 4, is greater than permitted\n",
      "  6%|▌         | 109/1911 [00:00<00:13, 136.58it/s][22:04:41] Explicit valence for atom # 1 N, 4, is greater than permitted\n",
      " 12%|█▏        | 232/1911 [00:01<00:13, 120.85it/s][22:04:42] Explicit valence for atom # 32 N, 4, is greater than permitted\n",
      " 14%|█▍        | 275/1911 [00:02<00:22, 71.91it/s] [22:04:43] Explicit valence for atom # 21 N, 4, is greater than permitted\n",
      "[22:04:43] Explicit valence for atom # 11 N, 4, is greater than permitted\n",
      "[22:04:43] Explicit valence for atom # 32 N, 4, is greater than permitted\n",
      " 29%|██▉       | 550/1911 [00:05<00:19, 70.55it/s] [22:04:46] Explicit valence for atom # 8 N, 4, is greater than permitted\n",
      " 30%|███       | 577/1911 [00:05<00:16, 78.77it/s][22:04:46] Explicit valence for atom # 6 N, 4, is greater than permitted\n",
      " 33%|███▎      | 632/1911 [00:05<00:12, 106.34it/s][22:04:46] Explicit valence for atom # 6 N, 4, is greater than permitted\n",
      "[22:04:46] Explicit valence for atom # 9 N, 4, is greater than permitted\n",
      " 40%|████      | 766/1911 [00:07<00:19, 57.76it/s] [22:04:48] Explicit valence for atom # 20 N, 4, is greater than permitted\n",
      " 42%|████▏     | 805/1911 [00:08<00:16, 65.46it/s][22:04:49] Explicit valence for atom # 1 N, 4, is greater than permitted\n",
      " 45%|████▍     | 857/1911 [00:08<00:10, 105.11it/s][22:04:49] Explicit valence for atom # 8 N, 4, is greater than permitted\n",
      " 47%|████▋     | 907/1911 [00:09<00:10, 93.46it/s] [22:04:50] Explicit valence for atom # 43 N, 4, is greater than permitted\n",
      " 56%|█████▌    | 1063/1911 [00:11<00:10, 81.95it/s][22:04:52] Explicit valence for atom # 8 C, 5, is greater than permitted\n",
      " 58%|█████▊    | 1105/1911 [00:11<00:06, 132.32it/s][22:04:52] Explicit valence for atom # 20 N, 4, is greater than permitted\n",
      " 59%|█████▊    | 1121/1911 [00:11<00:07, 100.28it/s][22:04:52] Explicit valence for atom # 34 N, 4, is greater than permitted\n",
      " 65%|██████▍   | 1235/1911 [00:27<00:22, 29.64it/s] [22:05:08] Explicit valence for atom # 20 N, 4, is greater than permitted\n",
      " 67%|██████▋   | 1277/1911 [00:27<00:10, 59.81it/s][22:05:09] Explicit valence for atom # 8 C, 5, is greater than permitted\n",
      " 72%|███████▏  | 1367/1911 [00:28<00:05, 96.38it/s][22:05:09] Explicit valence for atom # 15 N, 4, is greater than permitted\n",
      " 76%|███████▌  | 1447/1911 [00:35<01:14,  6.27it/s] [22:05:16] Explicit valence for atom # 17 N, 4, is greater than permitted\n",
      "[22:05:16] Explicit valence for atom # 1 N, 4, is greater than permitted\n",
      " 84%|████████▍ | 1609/1911 [00:37<00:03, 88.72it/s][22:05:18] Explicit valence for atom # 1 N, 4, is greater than permitted\n",
      " 87%|████████▋ | 1660/1911 [00:37<00:02, 100.04it/s][22:05:18] Explicit valence for atom # 18 N, 4, is greater than permitted\n",
      " 90%|████████▉ | 1714/1911 [00:38<00:01, 108.14it/s][22:05:19] Explicit valence for atom # 3 N, 4, is greater than permitted\n",
      " 97%|█████████▋| 1847/1911 [00:39<00:00, 86.91it/s] [22:05:24] Explicit valence for atom # 8 C, 5, is greater than permitted\n",
      "100%|██████████| 1911/1911 [00:43<00:00, 43.83it/s]\n"
     ]
    }
   ],
   "source": [
    "# load data\n",
    "for node in unique_node_select:\n",
    "    input_data_path = f'data/data_by_node/{node}.csv' \n",
    "    output_data_path = f'data/data_high_wc/{node}.csv'\n",
    "\n",
    "    df = pd.read_csv(input_data_path)\n",
    "\n",
    "    # select entries with high working capactiy\n",
    "    df_high_wc = df[df['CO2_wc_01'] >=2]\n",
    "\n",
    "    # select entries with three parsed linker\n",
    "    len_linkers = [len(ast.literal_eval(df_high_wc['organic_linker'].iloc[i])) for i in range(len(df_high_wc['organic_linkers']))]\n",
    "    df_high_wc['len_linkers'] = len_linkers\n",
    "    df_high_wc_select = df_high_wc[df_high_wc.len_linkers==3]\n",
    "    df_high_wc_select.to_csv(output_data_path,index=False)\n",
    "\n",
    "    # get list of smiles strings for all linkers\n",
    "\n",
    "    list_smiles = [ast.literal_eval(i) for i in df_high_wc_select['organic_linkers']]\n",
    "    all_smiles = list(itertools.chain(*list_smiles))\n",
    "    print(len(all_smiles))\n",
    "\n",
    "    # output to sdf\n",
    "    conformer_sdf_path = f'data/conformers_{node}.sdf'\n",
    "\n",
    "    writer = Chem.SDWriter(conformer_sdf_path)\n",
    "    for smile in tqdm(all_smiles):\n",
    "        try:\n",
    "            mol = Chem.AddHs(Chem.MolFromSmiles(smile))\n",
    "            conformers = AllChem.EmbedMultipleConfs(mol, numConfs=1)\n",
    "            conformer = mol.GetConformer(0)\n",
    "            for cid in range(mol.GetNumConformers()):\n",
    "                writer.write(mol, confId=cid)\n",
    "        except:\n",
    "            pass"
   ]
  },
  {
   "cell_type": "code",
   "execution_count": null,
   "metadata": {},
   "outputs": [],
   "source": []
  }
 ],
 "metadata": {
  "kernelspec": {
   "display_name": "base",
   "language": "python",
   "name": "python3"
  },
  "language_info": {
   "codemirror_mode": {
    "name": "ipython",
    "version": 3
   },
   "file_extension": ".py",
   "mimetype": "text/x-python",
   "name": "python",
   "nbconvert_exporter": "python",
   "pygments_lexer": "ipython3",
   "version": "3.9.13"
  },
  "orig_nbformat": 4,
  "vscode": {
   "interpreter": {
    "hash": "559242db46694297bf45a1f2c01a5213977929cff2ae79b7d8b9cb3d733fb43f"
   }
  }
 },
 "nbformat": 4,
 "nbformat_minor": 2
}
