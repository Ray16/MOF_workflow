{
 "cells": [
  {
   "cell_type": "code",
   "execution_count": 1,
   "metadata": {},
   "outputs": [],
   "source": [
    "import os\n",
    "import pandas as pd\n",
    "unique_node_select = [i.split('_')[1].split('.sdf')[0] for i in os.listdir('data') if 'conformers' in i]\n",
    "\n",
    "for node in unique_node_select:\n",
    "    # remove duplicates\n",
    "    data = open(f'data/fragments/frag_{node}.txt').readlines()\n",
    "    #print(f'# of fragment-linker pairs: {len(data)}')\n",
    "    unique_data = pd.Series(data).unique()\n",
    "    #print(f'# of unique fragment-linker pairs: {len(unique_data)}')\n",
    "    with open(f'data/fragments/frag_{node}_unique.txt','w+') as f:\n",
    "        for line in unique_data:\n",
    "            f.write(line)"
   ]
  },
  {
   "cell_type": "code",
   "execution_count": null,
   "metadata": {},
   "outputs": [],
   "source": []
  }
 ],
 "metadata": {
  "kernelspec": {
   "display_name": "base",
   "language": "python",
   "name": "python3"
  },
  "language_info": {
   "codemirror_mode": {
    "name": "ipython",
    "version": 3
   },
   "file_extension": ".py",
   "mimetype": "text/x-python",
   "name": "python",
   "nbconvert_exporter": "python",
   "pygments_lexer": "ipython3",
   "version": "3.9.13"
  },
  "orig_nbformat": 4,
  "vscode": {
   "interpreter": {
    "hash": "559242db46694297bf45a1f2c01a5213977929cff2ae79b7d8b9cb3d733fb43f"
   }
  }
 },
 "nbformat": 4,
 "nbformat_minor": 2
}
